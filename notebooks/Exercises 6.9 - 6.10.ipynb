{
 "cells": [
  {
   "cell_type": "markdown",
   "metadata": {},
   "source": [
    "# Exercício 6.9"
   ]
  },
  {
   "cell_type": "code",
   "execution_count": 1,
   "metadata": {},
   "outputs": [],
   "source": [
    "import random\n",
    "from operator import add, sub\n",
    "import gym\n",
    "from gym import spaces\n",
    "\n",
    "# def _remap_direction(state, direction, tuple_space):\n",
    "#     assert isinstance(direction, tuple) and isinstance(state, tuple)\n",
    "#     assert isinstance(tuple_space, spaces.Tuple)\n",
    "#     return tuple(\n",
    "#         s_i + d_i if s_i + d_i in space else s_i - d_i\n",
    "#         for s_i, d_i, space in zip(state, direction, tuple_space))\n",
    "\n",
    "def _clip_to_space(state, tuple_space):\n",
    "    assert isinstance(state, tuple) and isinstance(tuple_space, spaces.Tuple)\n",
    "    return tuple(min(max(0, s_i), space.n-1) for s_i, space in zip(state, tuple_space))\n",
    "\n",
    "def addt(a,b):\n",
    "    return tuple(map(add, a, b))\n",
    "\n",
    "def subt(a,b):\n",
    "    return tuple(map(sub, a, b))\n",
    "\n",
    "\n",
    "class WindyGridworldEnv(gym.Env):\n",
    "    def __init__(self):\n",
    "        self.observation_space = spaces.Tuple((spaces.Discrete(7), spaces.Discrete(10)))\n",
    "        self.action_space = spaces.Discrete(4)\n",
    "        self.action_effect = [\n",
    "            (-1,0), \n",
    "            (1,0), \n",
    "            (0,-1), \n",
    "            (0,1)\n",
    "        ]\n",
    "        self.column_wind = [0,0,0,1,1,1,2,2,1,0]\n",
    "        self.start = (3, 0)\n",
    "        self.goal = (3, 7)\n",
    "        self.state = None\n",
    "        \n",
    "    def reset(self):\n",
    "        self.state = self.start\n",
    "        return self.state\n",
    "        \n",
    "    def step(self, action):\n",
    "        assert action in self.action_space\n",
    "        wind = self.column_wind[self.state[1]]\n",
    "        direction = addt(self.action_effect[action], (-wind, 0))\n",
    "        result = addt(self.state, direction)\n",
    "        self.state = state = _clip_to_space(result, self.observation_space)\n",
    "\n",
    "        done = state == self.goal\n",
    "        return state, -1, done, {}\n",
    "\n",
    "    def render(self):\n",
    "        pass\n",
    "    \n",
    "    def close(self):\n",
    "        pass\n",
    "    \n",
    "    def seed(self):\n",
    "        pass\n",
    "    \n",
    "\n",
    "class WindyGridworldKingsMovesEnv(WindyGridworldEnv):\n",
    "    def __init__(self, noop=False):\n",
    "        super().__init__()\n",
    "        self.action_effect.extend([\n",
    "            (-1,-1),\n",
    "            (-1,1),\n",
    "            (1,-1),\n",
    "            (1,1)\n",
    "        ])\n",
    "        if noop:\n",
    "            self.action_effect.append((0,0))\n",
    "        self.action_space = spaces.Discrete(len(self.action_effect))"
   ]
  },
  {
   "cell_type": "code",
   "execution_count": 2,
   "metadata": {},
   "outputs": [
    {
     "name": "stdout",
     "output_type": "stream",
     "text": [
      "((2, 0), -1, False, {})\n"
     ]
    }
   ],
   "source": [
    "env = WindyGridworldEnv()\n",
    "obs = env.reset()\n",
    "print(env.step(0))"
   ]
  },
  {
   "cell_type": "code",
   "execution_count": 3,
   "metadata": {},
   "outputs": [],
   "source": [
    "from collections import defaultdict\n",
    "\n",
    "def sarsa(env, timesteps, alpha=0.5, epsilon=0.1, gamma=1.0):\n",
    "    qval = defaultdict(lambda: 0)\n",
    "    def get_action(state):\n",
    "        # epsilon-greedy action selection\n",
    "        if random.random() > epsilon:\n",
    "            return max(range(env.action_space.n), key=lambda a: qval[state, a])\n",
    "        else:\n",
    "            return random.randrange(env.action_space.n)\n",
    "    \n",
    "    done, episodes, total_episodes = True, [], -1\n",
    "    for timestep in range(timesteps):\n",
    "        if done:\n",
    "            state = env.reset()\n",
    "            action = get_action(state)\n",
    "            total_episodes += 1\n",
    "        episodes.append(total_episodes)\n",
    "\n",
    "        next_state, rew, done, _ = env.step(action)\n",
    "        next_action = get_action(next_state)\n",
    "        \n",
    "        qval[state, action] = qval[state, action] + alpha*(\n",
    "            rew + gamma*(not done)*qval[next_state, next_action] - qval[state, action])\n",
    "        state, action = next_state, next_action\n",
    "        \n",
    "    return qval, episodes"
   ]
  },
  {
   "cell_type": "code",
   "execution_count": 4,
   "metadata": {},
   "outputs": [],
   "source": [
    "%matplotlib inline\n",
    "import matplotlib.pyplot as plt\n",
    "\n",
    "def plot_episodes_x_timesteps(episodes):\n",
    "    plt.plot(episodes)\n",
    "    plt.xlabel('timesteps')\n",
    "    plt.ylabel('episodes')\n",
    "    plt.show()"
   ]
  },
  {
   "cell_type": "code",
   "execution_count": 5,
   "metadata": {
    "scrolled": true
   },
   "outputs": [
    {
     "data": {
      "image/png": "[encoded data removed]",
      "text/plain": [
       "<Figure size 432x288 with 1 Axes>"
      ]
     },
     "metadata": {
      "needs_background": "light"
     },
     "output_type": "display_data"
    },
    {
     "name": "stdout",
     "output_type": "stream",
     "text": [
      "CPU times: user 213 ms, sys: 42.5 ms, total: 255 ms\n",
      "Wall time: 366 ms\n"
     ]
    }
   ],
   "source": [
    "%%time\n",
    "q_val, episodes = sarsa(WindyGridworldEnv(), 8000)\n",
    "plot_episodes_x_timesteps(episodes)"
   ]
  },
  {
   "cell_type": "code",
   "execution_count": 6,
   "metadata": {
    "scrolled": true
   },
   "outputs": [
    {
     "data": {
      "image/png": "[encoded data removed]",
      "text/plain": [
       "<Figure size 432x288 with 1 Axes>"
      ]
     },
     "metadata": {
      "needs_background": "light"
     },
     "output_type": "display_data"
    },
    {
     "name": "stdout",
     "output_type": "stream",
     "text": [
      "CPU times: user 158 ms, sys: 14.4 ms, total: 172 ms\n",
      "Wall time: 173 ms\n"
     ]
    }
   ],
   "source": [
    "%%time\n",
    "q_val, episodes = sarsa(WindyGridworldKingsMovesEnv(), 8000)\n",
    "plot_episodes_x_timesteps(episodes)"
   ]
  },
  {
   "cell_type": "code",
   "execution_count": 7,
   "metadata": {
    "scrolled": false
   },
   "outputs": [
    {
     "data": {
      "image/png": "[encoded data removed]",
      "text/plain": [
       "<Figure size 432x288 with 1 Axes>"
      ]
     },
     "metadata": {
      "needs_background": "light"
     },
     "output_type": "display_data"
    },
    {
     "name": "stdout",
     "output_type": "stream",
     "text": [
      "CPU times: user 163 ms, sys: 14 ms, total: 177 ms\n",
      "Wall time: 177 ms\n"
     ]
    }
   ],
   "source": [
    "%%time\n",
    "q_val, episodes = sarsa(WindyGridworldKingsMovesEnv(noop=True), 8000)\n",
    "plot_episodes_x_timesteps(episodes)"
   ]
  },
  {
   "cell_type": "markdown",
   "metadata": {},
   "source": [
    "# Exercício 6.10"
   ]
  },
  {
   "cell_type": "code",
   "execution_count": 8,
   "metadata": {},
   "outputs": [],
   "source": [
    "class StochasticWindyGridworldEnv(WindyGridworldKingsMovesEnv):\n",
    "    def step(self, action):\n",
    "        assert action in self.action_space\n",
    "        base_wind = self.column_wind[self.state[1]]\n",
    "        wind = random.choice((-1,0,1)) + base_wind if base_wind else 0\n",
    "        direction = addt(self.action_effect[action], (-wind, 0))\n",
    "        result = addt(self.state, direction)\n",
    "        self.state = state = _clip_to_space(result, self.observation_space)\n",
    "        \n",
    "        done = state == self.goal\n",
    "        return state, -1, done, {}"
   ]
  },
  {
   "cell_type": "code",
   "execution_count": 9,
   "metadata": {
    "scrolled": true
   },
   "outputs": [
    {
     "data": {
      "image/png": "[encoded data removed]",
      "text/plain": [
       "<Figure size 432x288 with 1 Axes>"
      ]
     },
     "metadata": {
      "needs_background": "light"
     },
     "output_type": "display_data"
    },
    {
     "name": "stdout",
     "output_type": "stream",
     "text": [
      "CPU times: user 161 ms, sys: 14.1 ms, total: 175 ms\n",
      "Wall time: 174 ms\n"
     ]
    }
   ],
   "source": [
    "%%time\n",
    "q_val, episodes = sarsa(StochasticWindyGridworldEnv(), 8000)\n",
    "plot_episodes_x_timesteps(episodes)"
   ]
  }
 ],
 "metadata": {
  "kernelspec": {
   "display_name": "Python 3",
   "language": "python",
   "name": "python3"
  },
  "language_info": {
   "codemirror_mode": {
    "name": "ipython",
    "version": 3
   },
   "file_extension": ".py",
   "mimetype": "text/x-python",
   "name": "python",
   "nbconvert_exporter": "python",
   "pygments_lexer": "ipython3",
   "version": "3.7.2"
  }
 },
 "nbformat": 4,
 "nbformat_minor": 2
}
